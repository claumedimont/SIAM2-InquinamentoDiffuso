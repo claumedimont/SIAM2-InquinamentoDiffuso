{
 "cells": [
  {
   "cell_type": "markdown",
   "metadata": {},
   "source": [
    "This code reads a structured concentration file and calculates the median values for each point per year\n",
    "\n",
    "Author: Pietro Mazzon\n",
    "Mail: pietro.mazzon@polimi.it\n",
    "Date: 06/11/2024"
   ]
  },
  {
   "cell_type": "code",
   "execution_count": 1,
   "metadata": {},
   "outputs": [
    {
     "name": "stdout",
     "output_type": "stream",
     "text": [
      "Pandas version: 1.5.3\n",
      "Numpy version: 1.23.5\n"
     ]
    }
   ],
   "source": [
    "# import libraries\n",
    "import os\n",
    "\n",
    "import pandas as pd\n",
    "print('Pandas version: '+pd.__version__) #check version\n",
    "\n",
    "import numpy as np\n",
    "print('Numpy version: '+np.__version__) #check version"
   ]
  },
  {
   "cell_type": "code",
   "execution_count": 2,
   "metadata": {},
   "outputs": [
    {
     "name": "stdout",
     "output_type": "stream",
     "text": [
      "c:\\Users\\user\\Documents\\GitHub\\SIAM2-InquinamentoDiffuso\\ReteMonitoraggio\n",
      "La cartella dei file di input è:  c:\\Users\\user\\Documents\\GitHub\\SIAM2-InquinamentoDiffuso\\ReteMonitoraggio\\Dati_input\n"
     ]
    }
   ],
   "source": [
    "# set WD\n",
    "cwd = os.getcwd()\n",
    "print(cwd)\n",
    "\n",
    "# set input files dir\n",
    "filepath = os.path.join(cwd,'Dati_input')\n",
    "print('La cartella dei file di input è: ',filepath)"
   ]
  },
  {
   "cell_type": "code",
   "execution_count": 3,
   "metadata": {},
   "outputs": [],
   "source": [
    "# Read the DF\n",
    "file = 'idrochimica_tutti_step6_SL_31102024'\n",
    "extension = '.xlsx'\n",
    "path = os.path.join(filepath,file + extension)\n",
    "df = pd.read_excel(path)"
   ]
  },
  {
   "cell_type": "code",
   "execution_count": 4,
   "metadata": {},
   "outputs": [],
   "source": [
    "# Writes DF as csv\n",
    "writepath = os.path.join(filepath,file + '.csv')\n",
    "df.to_csv(writepath, index=False)"
   ]
  },
  {
   "cell_type": "code",
   "execution_count": 5,
   "metadata": {},
   "outputs": [
    {
     "data": {
      "text/plain": [
       "COMUNE                          object\n",
       "ID_PUNTO                        object\n",
       "DATA                    datetime64[ns]\n",
       "PUNTO_PRELIEVO                  object\n",
       "Descrizione Punto               object\n",
       "Tipo di campione                object\n",
       "Tipologia di analisi            object\n",
       "Nota Prelievo                   object\n",
       "Nota Prelevatore                object\n",
       "VALORE_ORIGINE                  object\n",
       "VALORE_MODIFICATO              float64\n",
       "PARAMETRO                       object\n",
       "UM                              object\n",
       "FONTE                           object\n",
       "dtype: object"
      ]
     },
     "execution_count": 5,
     "metadata": {},
     "output_type": "execute_result"
    }
   ],
   "source": [
    "# explore DF\n",
    "\n",
    "#df.head() # firts records of DF\n",
    "#df.tail() # last records of DF\n",
    "# df.shape #print dimensions of DF\n",
    "df.dtypes # variable types\n",
    "#df.describe()\n",
    "#print(df.columns)"
   ]
  },
  {
   "cell_type": "code",
   "execution_count": 6,
   "metadata": {},
   "outputs": [
    {
     "name": "stdout",
     "output_type": "stream",
     "text": [
      "Index(['ID_PUNTO', 'DATA', 'VALORE_MODIFICATO', 'PARAMETRO'], dtype='object')\n"
     ]
    }
   ],
   "source": [
    "# drop unwanted cols\n",
    "\n",
    "#df2=df.copy() # for testing\n",
    "\n",
    "df.drop(\n",
    "    ['COMUNE', 'Descrizione Punto', 'PUNTO_PRELIEVO', 'Tipo di campione', 'Tipologia di analisi', \n",
    "     'Nota Prelievo', 'Nota Prelevatore', 'VALORE_ORIGINE', 'UM', 'FONTE'],\n",
    "    axis=1, \n",
    "    inplace=True\n",
    ")\n",
    "\n",
    "\n",
    "print(df.columns)"
   ]
  },
  {
   "cell_type": "code",
   "execution_count": 7,
   "metadata": {},
   "outputs": [
    {
     "data": {
      "text/plain": [
       "ID_PUNTO             0\n",
       "DATA                 0\n",
       "VALORE_MODIFICATO    0\n",
       "PARAMETRO            0\n",
       "dtype: int64"
      ]
     },
     "execution_count": 7,
     "metadata": {},
     "output_type": "execute_result"
    }
   ],
   "source": [
    "# check for NaN values\n",
    "\n",
    "# Checking for missing values using isnull()\n",
    "df.isnull() # Creates a set of boolean values\n",
    "df.isnull().sum() # make the sum to count the missing values -> better, summarize"
   ]
  },
  {
   "cell_type": "code",
   "execution_count": null,
   "metadata": {},
   "outputs": [
    {
     "name": "stdout",
     "output_type": "stream",
     "text": [
      "                  ID_PUNTO  YEAR  MEDIANA_ANNO\n",
      "0                    77087  2016          0.50\n",
      "1                150930097  2018          3.00\n",
      "2                150930097  2019          2.00\n",
      "3                150930097  2020          2.51\n",
      "4                150930097  2021          2.77\n",
      "...                    ...   ...           ...\n",
      "6623  Via Volturno - U0004  2020          1.00\n",
      "6624  Via Volturno - U0004  2021          1.00\n",
      "6625  Via Volturno - U0004  2022          1.00\n",
      "6626  Via Volturno - U0004  2023          1.00\n",
      "6627                     c  2015         18.00\n",
      "\n",
      "[6628 rows x 3 columns]\n"
     ]
    }
   ],
   "source": [
    "# groupby ID_PUNTO and then by YEAR\n",
    "\n",
    "#df2=df.copy() # for testing\n",
    "\n",
    "# create a column \"YEAR\"\n",
    "\n",
    "df['YEAR']=df['DATA'].dt.year\n",
    "\n",
    "#df.describe()\n",
    "#df.head()\n",
    "#df.tail()\n",
    "\n",
    "# groupby and median values\n",
    "result = df.groupby(['ID_PUNTO','YEAR'])['VALORE_MODIFICATO'].median() #select by point and by year, then calculates the median of the column valore modificato\n",
    "\n",
    "result_reset_index = result.reset_index() # make the series \"result\" a DF and reset of indexes\n",
    "result_reset_index.rename(columns={'VALORE_MODIFICATO': 'MEDIANA_ANNO'}, inplace=True)\n",
    "writepath2 = os.path.join(filepath,'mediane.csv')\n",
    "result_reset_index.to_csv(writepath2, index=False) # save to csv\n",
    "#print(result_reset_index)\n"
   ]
  }
 ],
 "metadata": {
  "kernelspec": {
   "display_name": "base",
   "language": "python",
   "name": "python3"
  },
  "language_info": {
   "codemirror_mode": {
    "name": "ipython",
    "version": 3
   },
   "file_extension": ".py",
   "mimetype": "text/x-python",
   "name": "python",
   "nbconvert_exporter": "python",
   "pygments_lexer": "ipython3",
   "version": "3.10.9"
  }
 },
 "nbformat": 4,
 "nbformat_minor": 2
}
